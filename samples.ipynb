{
 "cells": [
  {
   "cell_type": "code",
   "execution_count": 1,
   "id": "ca23a55d",
   "metadata": {},
   "outputs": [],
   "source": [
    "import underpin\n",
    "from underpin import UNDERPIN_GIT_ROOT"
   ]
  },
  {
   "cell_type": "code",
   "execution_count": 2,
   "id": "fb2d4a1b",
   "metadata": {},
   "outputs": [],
   "source": [
    "from underpin.utils.git import GitContext"
   ]
  },
  {
   "cell_type": "code",
   "execution_count": 3,
   "id": "024c4ea6",
   "metadata": {},
   "outputs": [
    {
     "name": "stderr",
     "output_type": "stream",
     "text": [
      "\u001b[32m2023-06-26 20:48:29.485\u001b[0m | \u001b[34m\u001b[1mDEBUG   \u001b[0m | \u001b[36munderpin.utils.git.GitContext\u001b[0m:\u001b[36m_run_command\u001b[0m:\u001b[36m163\u001b[0m - \u001b[34m\u001b[1mrunning command git branch --list in /Users/sirsh/.underpin/cloned\u001b[0m\n",
      "\u001b[32m2023-06-26 20:48:29.514\u001b[0m | \u001b[34m\u001b[1mDEBUG   \u001b[0m | \u001b[36munderpin.utils.git.GitContext\u001b[0m:\u001b[36m_run_command\u001b[0m:\u001b[36m163\u001b[0m - \u001b[34m\u001b[1mrunning command git config --get remote.origin.url in /Users/sirsh/.underpin/cloned\u001b[0m\n",
      "\u001b[32m2023-06-26 20:48:29.536\u001b[0m | \u001b[34m\u001b[1mDEBUG   \u001b[0m | \u001b[36munderpin.utils.git.GitContext\u001b[0m:\u001b[36m_run_command\u001b[0m:\u001b[36m177\u001b[0m - \u001b[34m\u001b[1mb'git@github.com:mr-saoirse/underpinnings.git\\n'\u001b[0m\n",
      "\u001b[32m2023-06-26 20:48:29.537\u001b[0m | \u001b[34m\u001b[1mDEBUG   \u001b[0m | \u001b[36munderpin.utils.git.GitContext\u001b[0m:\u001b[36m_run_command\u001b[0m:\u001b[36m163\u001b[0m - \u001b[34m\u001b[1mrunning command git diff --name-only main in /Users/sirsh/.underpin/cloned\u001b[0m\n",
      "\u001b[32m2023-06-26 20:48:29.559\u001b[0m | \u001b[33m\u001b[1mWARNING \u001b[0m | \u001b[36munderpin.utils.git.GitContext\u001b[0m:\u001b[36m_run_command\u001b[0m:\u001b[36m175\u001b[0m - \u001b[33m\u001b[1mprocess-> b\"fatal: ambiguous argument 'main': unknown revision or path not in the working tree.\\nUse '--' to separate paths from revisions, like this:\\n'git <command> [<revision>...] -- [<file>...]'\\n\"\u001b[0m\n",
      "\u001b[32m2023-06-26 20:48:29.560\u001b[0m | \u001b[1mINFO    \u001b[0m | \u001b[36munderpin.utils.git.GitContext\u001b[0m:\u001b[36mcheckout\u001b[0m:\u001b[36m108\u001b[0m - \u001b[1mAssuming you want to clone into the directory /Users/sirsh/.underpin/cloned which does not contain underpinnings\u001b[0m\n",
      "\u001b[32m2023-06-26 20:48:29.561\u001b[0m | \u001b[34m\u001b[1mDEBUG   \u001b[0m | \u001b[36munderpin.utils.git.GitContext\u001b[0m:\u001b[36m_run_command\u001b[0m:\u001b[36m163\u001b[0m - \u001b[34m\u001b[1mrunning command git clone git@github.com:mr-saoirse/underpinnings.git in /Users/sirsh/.underpin/cloned\u001b[0m\n",
      "\u001b[32m2023-06-26 20:48:30.787\u001b[0m | \u001b[34m\u001b[1mDEBUG   \u001b[0m | \u001b[36munderpin.utils.git.GitContext\u001b[0m:\u001b[36m_run_command\u001b[0m:\u001b[36m163\u001b[0m - \u001b[34m\u001b[1mrunning command git checkout -b somehash in /Users/sirsh/.underpin/cloned/underpinnings\u001b[0m\n"
     ]
    }
   ],
   "source": [
    "#TODO allow for running from any folder \n",
    "#verify we are in the git repo\n",
    "\n",
    "#TARGET TODO:\n",
    "#non empty but correct branch\n",
    "with GitContext('git@github.com:mr-saoirse/underpinnings.git', local_dir=UNDERPIN_GIT_ROOT, branch='somehash') as g:\n",
    "    g.checkout()\n"
   ]
  },
  {
   "cell_type": "code",
   "execution_count": 4,
   "id": "21ef62f2",
   "metadata": {},
   "outputs": [
    {
     "name": "stderr",
     "output_type": "stream",
     "text": [
      "\u001b[32m2023-06-26 20:51:23.560\u001b[0m | \u001b[34m\u001b[1mDEBUG   \u001b[0m | \u001b[36munderpin.utils.git.GitContext\u001b[0m:\u001b[36m_run_command\u001b[0m:\u001b[36m163\u001b[0m - \u001b[34m\u001b[1mrunning command git branch --list in /Users/sirsh/code/mr_saoirse/underpinnings\u001b[0m\n",
      "\u001b[32m2023-06-26 20:51:23.615\u001b[0m | \u001b[34m\u001b[1mDEBUG   \u001b[0m | \u001b[36munderpin.utils.git.GitContext\u001b[0m:\u001b[36m_run_command\u001b[0m:\u001b[36m177\u001b[0m - \u001b[34m\u001b[1mb'  main\\n  sa.gitscaffold\\n* sa/myapp\\n'\u001b[0m\n",
      "\u001b[32m2023-06-26 20:51:23.617\u001b[0m | \u001b[34m\u001b[1mDEBUG   \u001b[0m | \u001b[36munderpin.utils.git.GitContext\u001b[0m:\u001b[36m_run_command\u001b[0m:\u001b[36m163\u001b[0m - \u001b[34m\u001b[1mrunning command git config --get remote.origin.url in /Users/sirsh/code/mr_saoirse/underpinnings\u001b[0m\n",
      "\u001b[32m2023-06-26 20:51:23.645\u001b[0m | \u001b[34m\u001b[1mDEBUG   \u001b[0m | \u001b[36munderpin.utils.git.GitContext\u001b[0m:\u001b[36m_run_command\u001b[0m:\u001b[36m177\u001b[0m - \u001b[34m\u001b[1mb'https://github.com/mr-saoirse/underpinnings.git\\n'\u001b[0m\n",
      "\u001b[32m2023-06-26 20:51:23.646\u001b[0m | \u001b[34m\u001b[1mDEBUG   \u001b[0m | \u001b[36munderpin.utils.git.GitContext\u001b[0m:\u001b[36m_run_command\u001b[0m:\u001b[36m163\u001b[0m - \u001b[34m\u001b[1mrunning command git diff --name-only main in /Users/sirsh/code/mr_saoirse/underpinnings\u001b[0m\n",
      "\u001b[32m2023-06-26 20:51:23.679\u001b[0m | \u001b[34m\u001b[1mDEBUG   \u001b[0m | \u001b[36munderpin.utils.git.GitContext\u001b[0m:\u001b[36m_run_command\u001b[0m:\u001b[36m177\u001b[0m - \u001b[34m\u001b[1mb'.dockerignore\\n.envrc\\n.gitignore\\nDockerfile\\nREADME.md\\n__main__.py\\napps/default/deployment/Dockerfile\\napps/default/deployment/main.py\\napps/default/deployment/underpin.yaml\\napps/default/deployment_minimal/underpin.yaml\\napps/default/deployment_no_docker/main.py\\napps/default/deployment_no_docker/underpin.yaml\\nconfig/config.yaml\\ndocker-compose.yaml\\nkubernetes/workflow/pipeline.yaml\\nnotes.sirsh\\npoetry.lock\\npyproject.toml\\nrequirements.txt\\nsamples.ipynb\\ntest_underpin/__init__.py\\ntest_underpin/scripts/sample_runner.sh\\ntest_underpin/underpin/utils/git/test_GitContext.py\\ntest_underpin/underpin/utils/git/test_clone.py\\nunderpin/.underpinnings/modules/deployment/template.helm\\nunderpin/.underpinnings/modules/deployment/template.jinja\\nunderpin/.underpinnings/modules/deployment/template.py\\nunderpin/__init__.py\\nunderpin/__main__.py\\nunderpin/config.py\\nunderpin/pipeline/default.py\\nunderpin/templates/UnderpinTemplate.py\\nunderpin/templates/__init__.py\\nunderpin/templates/template_containers.py\\nunderpin/templates/template_yaml.py\\nunderpin/utils/__init__.py\\nunderpin/utils/funcs.py\\nunderpin/utils/git/GitContext.py\\nunderpin/utils/git/GitContextOld.py\\nunderpin/utils/io/__init__.py\\n'\u001b[0m\n"
     ]
    },
    {
     "name": "stdout",
     "output_type": "stream",
     "text": [
      "['sa/myapp']\n"
     ]
    }
   ],
   "source": [
    "with GitContext('git@github.com:mr-saoirse/underpinnings.git', ) as g:\n",
    "    print(g.current_branch)"
   ]
  },
  {
   "cell_type": "code",
   "execution_count": 5,
   "id": "08874412",
   "metadata": {},
   "outputs": [
    {
     "name": "stderr",
     "output_type": "stream",
     "text": [
      "\u001b[32m2023-06-26 20:53:04.183\u001b[0m | \u001b[34m\u001b[1mDEBUG   \u001b[0m | \u001b[36munderpin.utils.git.GitContext\u001b[0m:\u001b[36m_run_command\u001b[0m:\u001b[36m163\u001b[0m - \u001b[34m\u001b[1mrunning command git branch --list in apps\u001b[0m\n",
      "\u001b[32m2023-06-26 20:53:04.229\u001b[0m | \u001b[34m\u001b[1mDEBUG   \u001b[0m | \u001b[36munderpin.utils.git.GitContext\u001b[0m:\u001b[36m_run_command\u001b[0m:\u001b[36m177\u001b[0m - \u001b[34m\u001b[1mb'  main\\n  sa.gitscaffold\\n* sa/myapp\\n'\u001b[0m\n",
      "\u001b[32m2023-06-26 20:53:04.232\u001b[0m | \u001b[34m\u001b[1mDEBUG   \u001b[0m | \u001b[36munderpin.utils.git.GitContext\u001b[0m:\u001b[36m_run_command\u001b[0m:\u001b[36m163\u001b[0m - \u001b[34m\u001b[1mrunning command git config --get remote.origin.url in apps\u001b[0m\n",
      "\u001b[32m2023-06-26 20:53:04.261\u001b[0m | \u001b[34m\u001b[1mDEBUG   \u001b[0m | \u001b[36munderpin.utils.git.GitContext\u001b[0m:\u001b[36m_run_command\u001b[0m:\u001b[36m177\u001b[0m - \u001b[34m\u001b[1mb'https://github.com/mr-saoirse/underpinnings.git\\n'\u001b[0m\n",
      "\u001b[32m2023-06-26 20:53:04.262\u001b[0m | \u001b[34m\u001b[1mDEBUG   \u001b[0m | \u001b[36munderpin.utils.git.GitContext\u001b[0m:\u001b[36m_run_command\u001b[0m:\u001b[36m163\u001b[0m - \u001b[34m\u001b[1mrunning command git diff --name-only main in apps\u001b[0m\n",
      "\u001b[32m2023-06-26 20:53:04.291\u001b[0m | \u001b[34m\u001b[1mDEBUG   \u001b[0m | \u001b[36munderpin.utils.git.GitContext\u001b[0m:\u001b[36m_run_command\u001b[0m:\u001b[36m177\u001b[0m - \u001b[34m\u001b[1mb'.dockerignore\\n.envrc\\n.gitignore\\nDockerfile\\nREADME.md\\n__main__.py\\napps/default/deployment/Dockerfile\\napps/default/deployment/main.py\\napps/default/deployment/underpin.yaml\\napps/default/deployment_minimal/underpin.yaml\\napps/default/deployment_no_docker/main.py\\napps/default/deployment_no_docker/underpin.yaml\\nconfig/config.yaml\\ndocker-compose.yaml\\nkubernetes/workflow/pipeline.yaml\\nnotes.sirsh\\npoetry.lock\\npyproject.toml\\nrequirements.txt\\nsamples.ipynb\\ntest_underpin/__init__.py\\ntest_underpin/scripts/sample_runner.sh\\ntest_underpin/underpin/utils/git/test_GitContext.py\\ntest_underpin/underpin/utils/git/test_clone.py\\nunderpin/.underpinnings/modules/deployment/template.helm\\nunderpin/.underpinnings/modules/deployment/template.jinja\\nunderpin/.underpinnings/modules/deployment/template.py\\nunderpin/__init__.py\\nunderpin/__main__.py\\nunderpin/config.py\\nunderpin/pipeline/default.py\\nunderpin/templates/UnderpinTemplate.py\\nunderpin/templates/__init__.py\\nunderpin/templates/template_containers.py\\nunderpin/templates/template_yaml.py\\nunderpin/utils/__init__.py\\nunderpin/utils/funcs.py\\nunderpin/utils/git/GitContext.py\\nunderpin/utils/git/GitContextOld.py\\nunderpin/utils/io/__init__.py\\n'\u001b[0m\n"
     ]
    },
    {
     "name": "stdout",
     "output_type": "stream",
     "text": [
      "['sa/myapp']\n"
     ]
    }
   ],
   "source": [
    "with GitContext('git@github.com:mr-saoirse/underpinnings.git', local_dir='apps' ) as g:\n",
    "    print(g.current_branch)"
   ]
  },
  {
   "cell_type": "code",
   "execution_count": 6,
   "id": "499069db",
   "metadata": {},
   "outputs": [
    {
     "name": "stderr",
     "output_type": "stream",
     "text": [
      "\u001b[32m2023-06-26 20:53:16.994\u001b[0m | \u001b[34m\u001b[1mDEBUG   \u001b[0m | \u001b[36munderpin.utils.git.GitContext\u001b[0m:\u001b[36m_run_command\u001b[0m:\u001b[36m163\u001b[0m - \u001b[34m\u001b[1mrunning command git diff --name-only main in apps\u001b[0m\n",
      "\u001b[32m2023-06-26 20:53:17.034\u001b[0m | \u001b[34m\u001b[1mDEBUG   \u001b[0m | \u001b[36munderpin.utils.git.GitContext\u001b[0m:\u001b[36m_run_command\u001b[0m:\u001b[36m177\u001b[0m - \u001b[34m\u001b[1mb'.dockerignore\\n.envrc\\n.gitignore\\nDockerfile\\nREADME.md\\n__main__.py\\napps/default/deployment/Dockerfile\\napps/default/deployment/main.py\\napps/default/deployment/underpin.yaml\\napps/default/deployment_minimal/underpin.yaml\\napps/default/deployment_no_docker/main.py\\napps/default/deployment_no_docker/underpin.yaml\\nconfig/config.yaml\\ndocker-compose.yaml\\nkubernetes/workflow/pipeline.yaml\\nnotes.sirsh\\npoetry.lock\\npyproject.toml\\nrequirements.txt\\nsamples.ipynb\\ntest_underpin/__init__.py\\ntest_underpin/scripts/sample_runner.sh\\ntest_underpin/underpin/utils/git/test_GitContext.py\\ntest_underpin/underpin/utils/git/test_clone.py\\nunderpin/.underpinnings/modules/deployment/template.helm\\nunderpin/.underpinnings/modules/deployment/template.jinja\\nunderpin/.underpinnings/modules/deployment/template.py\\nunderpin/__init__.py\\nunderpin/__main__.py\\nunderpin/config.py\\nunderpin/pipeline/default.py\\nunderpin/templates/UnderpinTemplate.py\\nunderpin/templates/__init__.py\\nunderpin/templates/template_containers.py\\nunderpin/templates/template_yaml.py\\nunderpin/utils/__init__.py\\nunderpin/utils/funcs.py\\nunderpin/utils/git/GitContext.py\\nunderpin/utils/git/GitContextOld.py\\nunderpin/utils/io/__init__.py\\n'\u001b[0m\n"
     ]
    },
    {
     "data": {
      "text/plain": [
       "['.dockerignore',\n",
       " '.envrc',\n",
       " '.gitignore',\n",
       " 'Dockerfile',\n",
       " 'README.md',\n",
       " '__main__.py',\n",
       " 'apps/default/deployment/Dockerfile',\n",
       " 'apps/default/deployment/main.py',\n",
       " 'apps/default/deployment/underpin.yaml',\n",
       " 'apps/default/deployment_minimal/underpin.yaml',\n",
       " 'apps/default/deployment_no_docker/main.py',\n",
       " 'apps/default/deployment_no_docker/underpin.yaml',\n",
       " 'config/config.yaml',\n",
       " 'docker-compose.yaml',\n",
       " 'kubernetes/workflow/pipeline.yaml',\n",
       " 'notes.sirsh',\n",
       " 'poetry.lock',\n",
       " 'pyproject.toml',\n",
       " 'requirements.txt',\n",
       " 'samples.ipynb',\n",
       " 'test_underpin/__init__.py',\n",
       " 'test_underpin/scripts/sample_runner.sh',\n",
       " 'test_underpin/underpin/utils/git/test_GitContext.py',\n",
       " 'test_underpin/underpin/utils/git/test_clone.py',\n",
       " 'underpin/.underpinnings/modules/deployment/template.helm',\n",
       " 'underpin/.underpinnings/modules/deployment/template.jinja',\n",
       " 'underpin/.underpinnings/modules/deployment/template.py',\n",
       " 'underpin/__init__.py',\n",
       " 'underpin/__main__.py',\n",
       " 'underpin/config.py',\n",
       " 'underpin/pipeline/default.py',\n",
       " 'underpin/templates/UnderpinTemplate.py',\n",
       " 'underpin/templates/__init__.py',\n",
       " 'underpin/templates/template_containers.py',\n",
       " 'underpin/templates/template_yaml.py',\n",
       " 'underpin/utils/__init__.py',\n",
       " 'underpin/utils/funcs.py',\n",
       " 'underpin/utils/git/GitContext.py',\n",
       " 'underpin/utils/git/GitContextOld.py',\n",
       " 'underpin/utils/io/__init__.py',\n",
       " '']"
      ]
     },
     "execution_count": 6,
     "metadata": {},
     "output_type": "execute_result"
    }
   ],
   "source": [
    "g.get_changes()"
   ]
  },
  {
   "cell_type": "code",
   "execution_count": null,
   "id": "2c3ea011",
   "metadata": {},
   "outputs": [],
   "source": []
  }
 ],
 "metadata": {
  "kernelspec": {
   "display_name": "Python 3 (ipykernel)",
   "language": "python",
   "name": "python3"
  },
  "language_info": {
   "codemirror_mode": {
    "name": "ipython",
    "version": 3
   },
   "file_extension": ".py",
   "mimetype": "text/x-python",
   "name": "python",
   "nbconvert_exporter": "python",
   "pygments_lexer": "ipython3",
   "version": "3.10.10"
  }
 },
 "nbformat": 4,
 "nbformat_minor": 5
}
