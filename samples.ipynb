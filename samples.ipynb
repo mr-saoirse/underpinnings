{
 "cells": [
  {
   "cell_type": "code",
   "execution_count": 1,
   "id": "ca23a55d",
   "metadata": {},
   "outputs": [],
   "source": [
    "import underpin\n",
    "from underpin import UNDERPIN_GIT_ROOT"
   ]
  },
  {
   "cell_type": "code",
   "execution_count": 2,
   "id": "fb2d4a1b",
   "metadata": {},
   "outputs": [],
   "source": [
    "from underpin.utils.git import GitContext"
   ]
  },
  {
   "cell_type": "code",
   "execution_count": 3,
   "id": "024c4ea6",
   "metadata": {},
   "outputs": [
    {
     "name": "stderr",
     "output_type": "stream",
     "text": [
      "\u001b[32m2023-06-26 20:01:44.146\u001b[0m | \u001b[34m\u001b[1mDEBUG   \u001b[0m | \u001b[36munderpin.utils.git.GitContext\u001b[0m:\u001b[36m_run_command\u001b[0m:\u001b[36m162\u001b[0m - \u001b[34m\u001b[1mrunning command git branch --list in .\u001b[0m\n",
      "\u001b[32m2023-06-26 20:01:44.205\u001b[0m | \u001b[34m\u001b[1mDEBUG   \u001b[0m | \u001b[36munderpin.utils.git.GitContext\u001b[0m:\u001b[36m_run_command\u001b[0m:\u001b[36m176\u001b[0m - \u001b[34m\u001b[1mb'  main\\n  sa.gitscaffold\\n* sa/myapp\\n'\u001b[0m\n",
      "\u001b[32m2023-06-26 20:01:44.207\u001b[0m | \u001b[34m\u001b[1mDEBUG   \u001b[0m | \u001b[36munderpin.utils.git.GitContext\u001b[0m:\u001b[36m_run_command\u001b[0m:\u001b[36m162\u001b[0m - \u001b[34m\u001b[1mrunning command git config --get remote.origin.url in .\u001b[0m\n",
      "\u001b[32m2023-06-26 20:01:44.233\u001b[0m | \u001b[34m\u001b[1mDEBUG   \u001b[0m | \u001b[36munderpin.utils.git.GitContext\u001b[0m:\u001b[36m_run_command\u001b[0m:\u001b[36m176\u001b[0m - \u001b[34m\u001b[1mb'https://github.com/mr-saoirse/underpinnings.git\\n'\u001b[0m\n",
      "\u001b[32m2023-06-26 20:01:44.235\u001b[0m | \u001b[34m\u001b[1mDEBUG   \u001b[0m | \u001b[36munderpin.utils.git.GitContext\u001b[0m:\u001b[36m_run_command\u001b[0m:\u001b[36m162\u001b[0m - \u001b[34m\u001b[1mrunning command git diff --name-only main in .\u001b[0m\n",
      "\u001b[32m2023-06-26 20:01:44.269\u001b[0m | \u001b[34m\u001b[1mDEBUG   \u001b[0m | \u001b[36munderpin.utils.git.GitContext\u001b[0m:\u001b[36m_run_command\u001b[0m:\u001b[36m176\u001b[0m - \u001b[34m\u001b[1mb'.dockerignore\\n.gitignore\\nDockerfile\\nREADME.md\\n__main__.py\\nconfig/config.yaml\\nkubernetes/workflow/flows/default_builder.yaml\\nkubernetes/workflow/pipeline.yaml\\nnotes.sirsh\\npoetry.lock\\npyproject.toml\\nrequirements.txt\\nsamples.ipynb\\nsamples/default/deployment/Dockerfile\\nsamples/default/deployment/main.py\\nsamples/default/deployment/underpin.yaml\\nsamples/default/deployment_minimal/underpin.yaml\\nsamples/default/deployment_no_docker/main.py\\nsamples/default/deployment_no_docker/underpin.yaml\\ntest_underpin/underpin/utils/git/test_clone.py\\nunderpin/__init__.py\\nunderpin/__main__.py\\nunderpin/config.py\\nunderpin/pipeline/default.py\\nunderpin/schema/github/Pr.py\\nunderpin/schema/github/__init__.py\\nunderpin/templates/UnderpinTemplate.py\\nunderpin/templates/__init__.py\\nunderpin/templates/template_containers.py\\nunderpin/templates/template_yaml.py\\nunderpin/utils/__init__.py\\nunderpin/utils/funcs.py\\nunderpin/utils/git/GitContext.py\\nunderpin/utils/io/__init__.py\\n'\u001b[0m\n",
      "\u001b[32m2023-06-26 20:01:44.271\u001b[0m | \u001b[1mINFO    \u001b[0m | \u001b[36munderpin.utils.git.GitContext\u001b[0m:\u001b[36mcheckout\u001b[0m:\u001b[36m108\u001b[0m - \u001b[1mRepo exists at . - ensure local branch is the one we want and up to date\u001b[0m\n"
     ]
    }
   ],
   "source": [
    "with GitContext('git@github.com:mr-saoirse/underpinnings.git', local_dir=\".\") as g:\n",
    "    g\n"
   ]
  },
  {
   "cell_type": "code",
   "execution_count": 4,
   "id": "5ed79eaf",
   "metadata": {},
   "outputs": [
    {
     "data": {
      "text/plain": [
       "['sa/myapp']"
      ]
     },
     "execution_count": 4,
     "metadata": {},
     "output_type": "execute_result"
    }
   ],
   "source": [
    "g.current_branch"
   ]
  },
  {
   "cell_type": "code",
   "execution_count": null,
   "id": "c742e0f4",
   "metadata": {},
   "outputs": [],
   "source": []
  }
 ],
 "metadata": {
  "kernelspec": {
   "display_name": "Python 3 (ipykernel)",
   "language": "python",
   "name": "python3"
  },
  "language_info": {
   "codemirror_mode": {
    "name": "ipython",
    "version": 3
   },
   "file_extension": ".py",
   "mimetype": "text/x-python",
   "name": "python",
   "nbconvert_exporter": "python",
   "pygments_lexer": "ipython3",
   "version": "3.10.10"
  }
 },
 "nbformat": 4,
 "nbformat_minor": 5
}
